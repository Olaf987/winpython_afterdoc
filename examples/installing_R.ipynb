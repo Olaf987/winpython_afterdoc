{
 "cells": [
  {
   "cell_type": "markdown",
   "metadata": {},
   "source": [
    "# Installating R on WinPython\n",
    "\n",
    "#### This procedure applys for Winpython  (Version of December 2015 and after) \n",
    "###1 - Downloading and Installing R binary in the right place"
   ]
  },
  {
   "cell_type": "code",
   "execution_count": 1,
   "metadata": {
    "collapsed": false
   },
   "outputs": [],
   "source": [
    "import os\n",
    "import sys\n",
    "import io"
   ]
  },
  {
   "cell_type": "code",
   "execution_count": 2,
   "metadata": {
    "collapsed": false
   },
   "outputs": [],
   "source": [
    "os.environ[\"tmp_Rdirectory\"]= \"R\" \n",
    "os.environ[\"R_HOME\"] = os.environ[\"WINPYDIR\"]+ \"\\\\..\\\\tools\\\\R\\\\\" \n",
    "os.environ[\"R_HOMEbin\"]=os.environ[\"R_HOME\"] + \"bin\" \n",
    "# for installation we need this\n",
    "os.environ[\"tmp_Rbase\"]=os.path.join(os.path.split(os.environ[\"WINPYDIR\"])[0]  , 'tools','R' )  "
   ]
  },
  {
   "cell_type": "code",
   "execution_count": 3,
   "metadata": {
    "collapsed": false
   },
   "outputs": [],
   "source": [
    "# downloading R-3.2.3 (65 380 480 Bytes, may takes a few minutes)\n",
    "try:\n",
    "    import urllib.request as urllib2  # Python 3\n",
    "except:\n",
    "    import urllib2  # Python 2\n",
    "if 'amd64' in sys.version.lower():\n",
    "    r_comp ='/COMPONENTS=\"main,x64,translations'\n",
    "else:\n",
    "    r_comp ='/COMPONENTS=\"main,i386,translations'\n",
    "r_binary=\"R-3.2.3-win.exe\"\n",
    "r_url=\"http://cran.r-project.org/bin/windows/base/R-3.2.3-win.exe\"\n",
    "# or https://cran.rstudio.com/bin/windows/base/R-3.2.3-win.exe\n",
    "hashes=(\"5572ce407831ce9156485d4f896ad616\", \"b86077268e4aa5498482f4514202009009ddf947\" )\n",
    "    \n",
    "r_installer=os.environ[\"WINPYDIR\"]+\"\\\\..\\\\tools\\\\\"+r_binary\n",
    "os.environ[\"r_installer\"]=r_installer\n",
    "g = urllib2.urlopen(r_url) \n",
    "with io.open(r_installer, 'wb') as f:\n",
    "    f.write(g.read())\n",
    "g.close\n",
    "g = None"
   ]
  },
  {
   "cell_type": "code",
   "execution_count": 4,
   "metadata": {
    "collapsed": false
   },
   "outputs": [
    {
     "name": "stdout",
     "output_type": "stream",
     "text": [
      " Le volume dans le lecteur D s'appelle DATA\n",
      " Le num‚ro de s‚rie du volume est 10BD-2ADB\n",
      "\n",
      " R‚pertoire de D:\\WinPython\\basedir34\\buildQt5\\winpython-3.4.4.amd64\\tools\n",
      "\n",
      "27/12/2015  18:14        65ÿ380ÿ480 R-3.2.3-win.exe\n",
      "               1 fichier(s)       65ÿ380ÿ480 octets\n",
      "               0 R‚p(s)  135ÿ105ÿ753ÿ088 octets libres\n"
     ]
    }
   ],
   "source": [
    "#checking it's there\n",
    "!dir %r_installer%"
   ]
  },
  {
   "cell_type": "code",
   "execution_count": 5,
   "metadata": {
    "collapsed": false
   },
   "outputs": [
    {
     "name": "stdout",
     "output_type": "stream",
     "text": [
      "            MD5                                 SHA-1                    \n",
      "-------------------------------- ----------------------------------------\n",
      "5572ce407831ce9156485d4f896ad616 b86077268e4aa5498482f4514202009009ddf947 D:\\WinPython\\basedir34\\buildQt5\\winpython-3.4.4.amd64\\python-3.4.4.amd64\\..\\tools\\R-3.2.3-win.exe\n"
     ]
    }
   ],
   "source": [
    "# checking it's the official R-3.2.3 \n",
    "import hashlib\n",
    "def give_hash(of_file, with_this):\n",
    "    with io.open(r_installer, 'rb') as f:\n",
    "        return with_this(f.read()).hexdigest()  \n",
    "print (\" \"*12+\"MD5\"+\" \"*(32-12-3)+\" \"+\" \"*15+\"SHA-1\"+\" \"*(40-15-5)+\"\\n\"+\"-\"*32+\" \"+\"-\"*40)\n",
    "\n",
    "print (\"%s %s %s\" % (give_hash(r_installer, hashlib.md5) , give_hash(r_installer, hashlib.sha1),r_installer))\n",
    "assert give_hash(r_installer, hashlib.md5) == hashes[0]\n",
    "assert give_hash(r_installer, hashlib.sha1) == hashes[1]"
   ]
  },
  {
   "cell_type": "code",
   "execution_count": 6,
   "metadata": {
    "collapsed": false
   },
   "outputs": [],
   "source": [
    "# let's install it \n",
    "# If you are \"USB life style\", or multi-winpython\n",
    "#   ==> CLICK the OPTION \"Don't create a StartMenuFolder' <== (when it will show up)\n",
    "os.environ[\"tmp_R_comp\"]=r_comp\n",
    "!start cmd /C %r_installer% /DIR=%tmp_Rbase% %tmp_R_comp%\n"
   ]
  },
  {
   "cell_type": "markdown",
   "metadata": {},
   "source": [
    "## During Installation (if you wan't to move the R installation after)\n",
    "\n",
    "Select  \"Don't create a Start Menu Folder\"\n",
    "\n",
    "Un-select \"Create a desktop icon\"\n",
    "\n",
    "Un-select \"Save version number in registery\"\n"
   ]
  },
  {
   "cell_type": "markdown",
   "metadata": {},
   "source": [
    "<img src=\"https://raw.githubusercontent.com/stonebig/winpython_afterdoc/master/examples/images/r_setup_unclick_shortcut.GIF\">"
   ]
  },
  {
   "cell_type": "markdown",
   "metadata": {},
   "source": [
    "### 2 - create a R_launcher and install irkernel"
   ]
  },
  {
   "cell_type": "code",
   "execution_count": 7,
   "metadata": {
    "collapsed": false
   },
   "outputs": [],
   "source": [
    "# let's create a R launcher  \n",
    "r_launcher = r\"\"\"\n",
    "@echo off\n",
    "call %~dp0env.bat\n",
    "r.exe\n",
    "\"\"\"\n",
    "r_launcher_bat = os.environ[\"WINPYDIR\"]+\"\\\\..\\\\scripts\\\\R_launcher.bat\"\n",
    "\n",
    "\n",
    "for i in [(r_launcher,r_launcher_bat)]:\n",
    "    with io.open(i[1], 'w', encoding = sys.getdefaultencoding() ) as f:\n",
    "        for line in i[0].splitlines():\n",
    "            f.write('%s\\n' %  line  )\n"
   ]
  },
  {
   "cell_type": "code",
   "execution_count": 8,
   "metadata": {
    "collapsed": true
   },
   "outputs": [],
   "source": [
    "# start r\n",
    "!start cmd /C %WINPYDIR%\\\\..\\\\scripts\\\\R_launcher.bat"
   ]
  },
  {
   "cell_type": "markdown",
   "metadata": {},
   "source": [
    "### type in R console\n",
    "install.packages(c('rzmq','repr','IRkernel','IRdisplay'), repos = c('http://irkernel.github.io/', getOption('repos')))\n",
    "\n",
    "IRkernel::installspec()\n",
    "\n",
    "#### otherwise\n",
    "\n",
    "install.packages(c('rzmq','repr','IRkernel','IRdisplay'), repos = c('http://irkernel.github.io/',install.packages('dplyr', repos=\"http://cran.rstudio.com/\")\n",
    "\n",
    "IRkernel::installspec()\n"
   ]
  },
  {
   "cell_type": "markdown",
   "metadata": {},
   "source": [
    "### 3 - Relaunch Jupyter Notebook\n",
    "you have now the R kernel option\n",
    "\n",
    "\n"
   ]
  },
  {
   "cell_type": "markdown",
   "metadata": {},
   "source": [
    "### 4- Install a R package via a R Kernel\n",
    "launch a new notebook of \"R\" type, and type in it:\n",
    "    \n",
    "install.packages('dplyr', repos=\"https://cran.rstudio.com/\")\n"
   ]
  },
  {
   "cell_type": "markdown",
   "metadata": {
    "collapsed": false
   },
   "source": [
    "### 5- Install a R package via a Python  Kernel"
   ]
  },
  {
   "cell_type": "markdown",
   "metadata": {},
   "source": [
    "%load_ext rpy2.ipython\n",
    "\n",
    "%R install.packages('dplyr', repos=\"http://cran.rstudio.com/\") \n",
    "#essentials: 'dplyr', 'shiny', 'ggplot2', 'tidyr','caret' and 'nnet' ?\n",
    "\n",
    "%R install.packages(c('ggplot2', 'tidyr', 'nycflights13', 'R.utils'), repos='https://cran.rstudio.com') \n",
    "\n",
    "---------------\n",
    "\n",
    "<img src=\"https://raw.githubusercontent.com/stonebig/winpython_afterdoc/master/examples/images/r_basic_example.GIF\">"
   ]
  },
  {
   "cell_type": "markdown",
   "metadata": {},
   "source": [
    "### 9 - To Un-install  / Re-install R (or other trouble-shooting)\n",
    "\n",
    "- launch  winpython**\\tools\\R\\unins000.exe\n",
    "\n",
    "- delete the directory winpython**\\tools\\R\n",
    "\n",
    "- re-install\n"
   ]
  },
  {
   "cell_type": "code",
   "execution_count": null,
   "metadata": {
    "collapsed": false
   },
   "outputs": [],
   "source": []
  }
 ],
 "metadata": {
  "kernelspec": {
   "display_name": "Python 3",
   "language": "python",
   "name": "python3"
  },
  "language_info": {
   "codemirror_mode": {
    "name": "ipython",
    "version": 3
   },
   "file_extension": ".py",
   "mimetype": "text/x-python",
   "name": "python",
   "nbconvert_exporter": "python",
   "pygments_lexer": "ipython3",
   "version": "3.4.4"
  }
 },
 "nbformat": 4,
 "nbformat_minor": 0
}
