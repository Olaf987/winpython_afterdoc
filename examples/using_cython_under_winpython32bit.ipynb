{
 "metadata": {
  "name": "",
  "signature": "sha256:2f04ebdad854c5b8329b542267e3a6aa8361cd5e8cec57a0e064a43075c3596e"
 },
 "nbformat": 3,
 "nbformat_minor": 0,
 "worksheets": [
  {
   "cells": [
    {
     "cell_type": "markdown",
     "metadata": {},
     "source": [
      "# WinPython Cython tutorial (requires winpython32 bit version)\n",
      "\n"
     ]
    },
    {
     "cell_type": "markdown",
     "metadata": {},
     "source": [
      "##The use case\n",
      "Jake Vanderplas benchmarks : http://jakevdp.github.io/blog/2013/06/15/numba-vs-cython-take-2/"
     ]
    },
    {
     "cell_type": "markdown",
     "metadata": {},
     "source": [
      "## Preliminary : parametrize Cython to use the MingW included in Winpython 32 bit \n"
     ]
    },
    {
     "cell_type": "code",
     "collapsed": false,
     "input": [
      "# Checking where you are\n",
      "!dir ..\\..\\scripts\\make_cython_use_mingw.b*"
     ],
     "language": "python",
     "metadata": {},
     "outputs": [
      {
       "output_type": "stream",
       "stream": "stdout",
       "text": [
        " Volume in drive D is DATA\n",
        " Volume Serial Number is 5E30-5F97\n",
        "\n",
        " Directory of D:\\WinPython-32bit-2.7.8.1\\scripts\n",
        "\n",
        "30.08.2014  18:07             1.072 make_cython_use_mingw.bat\n",
        "               1 File(s)          1.072 bytes\n",
        "               0 Dir(s)  145.002.696.704 bytes free\n"
       ]
      }
     ],
     "prompt_number": 1
    },
    {
     "cell_type": "code",
     "collapsed": false,
     "input": [
      "# Launch the script winpython*\\scripts\\make_cython_use_mingw.bat\n",
      "#   (you'll have to type <Space> in the dos window that will appear\n",
      "!start cmd /C ..\\..\\scripts\\make_cython_use_mingw.bat"
     ],
     "language": "python",
     "metadata": {},
     "outputs": [],
     "prompt_number": 2
    },
    {
     "cell_type": "code",
     "collapsed": false,
     "input": [
      "# Thanks to Preliminary, we are ready to use cython\n",
      "%load_ext cythonmagic"
     ],
     "language": "python",
     "metadata": {},
     "outputs": [],
     "prompt_number": 3
    },
    {
     "cell_type": "markdown",
     "metadata": {},
     "source": [
      "## Now, let's benchmark"
     ]
    },
    {
     "cell_type": "code",
     "collapsed": false,
     "input": [
      "# prepare the sample datas\n",
      "import numpy as np\n",
      "X = np.random.random((1000, 3))"
     ],
     "language": "python",
     "metadata": {},
     "outputs": [],
     "prompt_number": 4
    },
    {
     "cell_type": "code",
     "collapsed": false,
     "input": [
      "# evaluate numpy speed\n",
      "def pairwise_numpy(X):\n",
      "    return np.sqrt(((X[:, None, :] - X) ** 2).sum(-1))\n",
      "%timeit pairwise_numpy(X)"
     ],
     "language": "python",
     "metadata": {},
     "outputs": [
      {
       "output_type": "stream",
       "stream": "stdout",
       "text": [
        "10 loops, best of 3: 106 ms per loop\n"
       ]
      }
     ],
     "prompt_number": 5
    },
    {
     "cell_type": "code",
     "collapsed": false,
     "input": [
      "# evaluate pure python3.4 speed\n",
      "def pairwise_python(X):\n",
      "    M = X.shape[0]\n",
      "    N = X.shape[1]\n",
      "    D = np.empty((M, M), dtype=np.float)\n",
      "    for i in range(M):\n",
      "        for j in range(M):\n",
      "            d = 0.0\n",
      "            for k in range(N):\n",
      "                tmp = X[i, k] - X[j, k]\n",
      "                d += tmp * tmp\n",
      "            D[i, j] = np.sqrt(d)\n",
      "    return D\n",
      "%timeit pairwise_python(X)"
     ],
     "language": "python",
     "metadata": {},
     "outputs": [
      {
       "output_type": "stream",
       "stream": "stdout",
       "text": [
        "1 loops, best of 3: 9.9 s per loop\n"
       ]
      }
     ],
     "prompt_number": 6
    },
    {
     "cell_type": "code",
     "collapsed": false,
     "input": [
      "%%cython\n",
      "import numpy as np\n",
      "cimport cython\n",
      "from libc.math cimport sqrt\n",
      "\n",
      "@cython.boundscheck(False)\n",
      "@cython.wraparound(False)\n",
      "def pairwise_cython(double[:, ::1] X):\n",
      "    cdef int M = X.shape[0]\n",
      "    cdef int N = X.shape[1]\n",
      "    cdef double tmp, d\n",
      "    cdef double[:, ::1] D = np.empty((M, M), dtype=np.float64)\n",
      "    for i in range(M):\n",
      "        for j in range(M):\n",
      "            d = 0.0\n",
      "            for k in range(N):\n",
      "                tmp = X[i, k] - X[j, k]\n",
      "                d += tmp * tmp\n",
      "            D[i, j] = sqrt(d)\n",
      "    return np.asarray(D)"
     ],
     "language": "python",
     "metadata": {},
     "outputs": [],
     "prompt_number": 7
    },
    {
     "cell_type": "code",
     "collapsed": false,
     "input": [
      "# evaluate cython speed \n",
      "%timeit pairwise_cython(X)"
     ],
     "language": "python",
     "metadata": {},
     "outputs": [
      {
       "output_type": "stream",
       "stream": "stdout",
       "text": [
        "100 loops, best of 3: 17.3 ms per loop\n"
       ]
      }
     ],
     "prompt_number": 8
    },
    {
     "cell_type": "raw",
     "metadata": {},
     "source": [
      "# numba is evaluate with anaconda2.02 python3.4 32bit\n",
      "#from numba import double\n",
      "#from numba.decorators import jit, autojit\n",
      "\n",
      "#pairwise_numba = autojit(pairwise_python)\n",
      "\n",
      "#%timeit pairwise_numba(X)\n",
      "# (in anaconda2.0.2 python3.4)\n",
      "#  10 loops, best of 3: 64.8 ms per loop"
     ]
    },
    {
     "cell_type": "code",
     "collapsed": false,
     "input": [
      "from scipy.spatial.distance import cdist\n",
      "%timeit cdist(X, X)"
     ],
     "language": "python",
     "metadata": {},
     "outputs": [
      {
       "output_type": "stream",
       "stream": "stdout",
       "text": [
        "10 loops, best of 3: 27.1 ms per loop\n"
       ]
      }
     ],
     "prompt_number": 7
    },
    {
     "cell_type": "code",
     "collapsed": false,
     "input": [
      "from sklearn.metrics import euclidean_distances\n",
      "%timeit euclidean_distances(X, X)"
     ],
     "language": "python",
     "metadata": {},
     "outputs": [
      {
       "output_type": "stream",
       "stream": "stdout",
       "text": [
        "10 loops, best of 3: 29.2 ms per loop\n"
       ]
      }
     ],
     "prompt_number": 8
    },
    {
     "cell_type": "code",
     "collapsed": false,
     "input": [
      "%pylab inline"
     ],
     "language": "python",
     "metadata": {},
     "outputs": [
      {
       "output_type": "stream",
       "stream": "stdout",
       "text": [
        "Populating the interactive namespace from numpy and matplotlib\n"
       ]
      }
     ],
     "prompt_number": 10
    },
    {
     "cell_type": "code",
     "collapsed": false,
     "input": [
      "labels = ['python\\nloop', 'numpy\\nbroadc.', 'sklearn' , 'scipy', 'cython', 'numba']\n",
      "timings_linux = [13.4   , 0.111           , 0.0356    , 0.0129 , 0.00987 , 0.00912]\n",
      "timings_winpython = [9.9, 0.106           , 0.0292   , 0.0271 , 0.0173  , 0.0648]\n",
      "x = np.arange(len(labels))\n",
      "\n",
      "ax = plt.axes(xticks=x, yscale='log')\n",
      "ax.bar(x - 0.3, timings_linux, width=0.8, alpha=0.4, bottom=1E-6 , color='yellow')\n",
      "ax.bar(x - 0.3, timings_winpython, width=0.6, alpha=0.4, bottom=1E-6)\n",
      "ax.grid()\n",
      "ax.set_xlim(-0.5, len(labels) - 0.5)\n",
      "ax.set_ylim(1E-3, 1E2)\n",
      "ax.xaxis.set_major_formatter(plt.FuncFormatter(lambda i, loc: labels[int(i)]))\n",
      "ax.set_ylabel('time (s)')\n",
      "ax.set_title(\"Pairwise Distance Timings on Linux and Windows (linux=yellow)\")"
     ],
     "language": "python",
     "metadata": {},
     "outputs": [
      {
       "metadata": {},
       "output_type": "pyout",
       "prompt_number": 11,
       "text": [
        "<matplotlib.text.Text at 0x6ca4210>"
       ]
      },
      {
       "metadata": {},
       "output_type": "display_data",
       "png": "[encoded data removed]",
       "text": [
        "<matplotlib.figure.Figure at 0x6c75430>"
       ]
      }
     ],
     "prompt_number": 11
    },
    {
     "cell_type": "markdown",
     "metadata": {},
     "source": [
      "# Conclusion :\n",
      "*     sklearn / scipy / cython give the \"standard\" 100x - 500x speed-up under heavy numeric computation\n",
      "*     numba is loosing some of its speed advantage under windows7-64 python3.4-32 bit"
     ]
    },
    {
     "cell_type": "code",
     "collapsed": false,
     "input": [],
     "language": "python",
     "metadata": {},
     "outputs": []
    }
   ],
   "metadata": {}
  }
 ]
}
