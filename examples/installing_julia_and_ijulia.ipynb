{
 "metadata": {
  "name": "",
  "signature": "sha256:a771941a0bc7f8794548bcdfe94dcaa36eaf81c42b466b729c3b1ec4f7a166ba"
 },
 "nbformat": 3,
 "nbformat_minor": 0,
 "worksheets": [
  {
   "cells": [
    {
     "cell_type": "markdown",
     "metadata": {},
     "source": [
      "# Installating Julia/IJulia on winpython via a Notebook\n",
      "###1 - Downloading and Installing the right Julia binary in the right place"
     ]
    },
    {
     "cell_type": "code",
     "collapsed": false,
     "input": [
      "import os\n",
      "import sys\n",
      "import io"
     ],
     "language": "python",
     "metadata": {},
     "outputs": [],
     "prompt_number": 1
    },
    {
     "cell_type": "code",
     "collapsed": false,
     "input": [
      "os.environ[\"JULIA_HOME\"] = os.environ[\"WINPYDIR\"]+\"\\\\..\\\\tools\\\\Julia\\\\bin\\\\\"\n",
      "os.environ[\"JULIA_EXE\"]=\"julia.exe\"\n",
      "os.environ[\"JULIA\"]=os.environ[\"JULIA_HOME\"]+os.environ[\"JULIA_EXE\"]\n",
      "# for installation we need this\n",
      "os.environ[\"JULIAROOT\"]=os.path.join(os.path.split(os.environ[\"WINPYDIR\"])[0]  , 'tools','julia' )  "
     ],
     "language": "python",
     "metadata": {},
     "outputs": [],
     "prompt_number": 2
    },
    {
     "cell_type": "code",
     "collapsed": false,
     "input": [
      "# downloading julia (32Mo, may take 1 minute or 2)\n",
      "try:\n",
      "    import urllib.request as urllib2  # Python 3\n",
      "except:\n",
      "    import urllib2  # Python 2\n",
      "if 'amd64' in sys.version.lower():\n",
      "    julia_binary=\"julia-0.3.0-win64.exe\"\n",
      "    julia_url=\"http://s3.amazonaws.com/julialang/bin/winnt/x64/0.3/julia-0.3.0-win64.exe\"\n",
      "    hashes=(\"49a7522f15297326c1c0a4c7ab823792\",\"53a7aed86f263fe84cfa01f02ae3313049ca95dc\" )\n",
      "else:\n",
      "    julia_binary=\"julia-0.3.0-win32.exe\"\n",
      "    julia_url=\"http://s3.amazonaws.com/julialang/bin/winnt/x86/0.3/julia-0.3.0-win32.exe\"\n",
      "    hashes=(\"126ce4958864162033ff456c457c01d4\",\"62f3cae2214af91b4d9ac46415439edb67416cb0\" )\n",
      "    \n",
      "julia_installer=os.environ[\"WINPYDIR\"]+\"\\\\..\\\\tools\\\\\"+julia_binary\n",
      "os.environ[\"julia_installer\"]=julia_installer\n",
      "g = urllib2.urlopen(julia_url) \n",
      "with io.open(julia_installer, 'wb') as f:\n",
      "    f.write(g.read())\n",
      "g.close\n",
      "g = None"
     ],
     "language": "python",
     "metadata": {},
     "outputs": [],
     "prompt_number": 3
    },
    {
     "cell_type": "code",
     "collapsed": false,
     "input": [
      "#checking it's there\n",
      "!dir %julia_installer%"
     ],
     "language": "python",
     "metadata": {},
     "outputs": [
      {
       "output_type": "stream",
       "stream": "stdout",
       "text": [
        " Le volume dans le lecteur D s'appelle DATA\n",
        " Le num\u201aro de s\u201arie du volume est 10BD-2ADB\n",
        "\n",
        " R\u201apertoire de D:\\result_tests\\WinPython-32bit-3.4.1.1_rc3\\tools\n",
        "\n",
        "23/08/2014  22:22        32\u00ff497\u00ff856 julia-0.3.0-win32.exe\n",
        "               1 fichier(s)       32\u00ff497\u00ff856 octets\n",
        "               0 R\u201ap(s)  247\u00ff104\u00ff589\u00ff824 octets libres\n"
       ]
      }
     ],
     "prompt_number": 4
    },
    {
     "cell_type": "code",
     "collapsed": false,
     "input": [
      "# checking it's the official julia0.3 \n",
      "import hashlib\n",
      "def give_hash(of_file, with_this):\n",
      "    with io.open(julia_installer, 'rb') as f:\n",
      "        return with_this(f.read()).hexdigest()  \n",
      "print (\" \"*12+\"MD5\"+\" \"*(32-12-3)+\" \"+\" \"*15+\"SHA-1\"+\" \"*(40-15-5)+\"\\n\"+\"-\"*32+\" \"+\"-\"*40)\n",
      "\n",
      "print (\"%s %s %s\" % (give_hash(julia_installer, hashlib.md5) , give_hash(julia_installer, hashlib.sha1),julia_installer))\n",
      "assert give_hash(julia_installer, hashlib.md5) == hashes[0]\n",
      "assert give_hash(julia_installer, hashlib.sha1) == hashes[1]"
     ],
     "language": "python",
     "metadata": {},
     "outputs": [
      {
       "output_type": "stream",
       "stream": "stdout",
       "text": [
        "            MD5                                 SHA-1                    \n",
        "-------------------------------- ----------------------------------------\n",
        "126ce4958864162033ff456c457c01d4 62f3cae2214af91b4d9ac46415439edb67416cb0 D:\\result_tests\\WinPython-32bit-3.4.1.1_rc3\\python-3.4.1\\..\\tools\\julia-0.3.0-win32.exe"
       ]
      },
      {
       "output_type": "stream",
       "stream": "stdout",
       "text": [
        "\n"
       ]
      }
     ],
     "prompt_number": 5
    },
    {
     "cell_type": "code",
     "collapsed": false,
     "input": [
      "# let's install it (add a  /S before /D if you want silence mode installation)\n",
      "#nullsoft installers don't accept . or .. conventions\n",
      "\n",
      "# If you are \"USB life style\", or multi-winpython\n",
      "#   ==> UN-CLICK the OPTION 'CREATE a StartMenuFolder and Shortcut' <== (when it will show up)\n",
      "!start cmd /C %julia_installer% /D=%JULIAROOT%\n"
     ],
     "language": "python",
     "metadata": {},
     "outputs": [],
     "prompt_number": 6
    },
    {
     "cell_type": "markdown",
     "metadata": {},
     "source": [
      "<img src=\"https://raw.githubusercontent.com/stonebig/winpython_afterdoc/master/examples/images/julia_setup_unclick_all.GIF\">"
     ]
    },
    {
     "cell_type": "markdown",
     "metadata": {},
     "source": [
      "###2 - Initialize Julia , IJulia, and make them link to winpython"
     ]
    },
    {
     "cell_type": "code",
     "collapsed": false,
     "input": [
      "# Writing a julia initial run script, for convenience\n",
      "bat_text = r\"\"\"\n",
      "@echo off\n",
      "set WINPYDIR=%~dp0..\\blablaPYTHON\n",
      "set WINPYVER=blablaWINPYVER\n",
      "set HOME=%WINPYDIR%\\..\\settings\n",
      "set PATH=%WINPYDIR%\\Lib\\site-packages\\PyQt4;%WINPYDIR%\\;%WINPYDIR%\\DLLs;%WINPYDIR%\\Scripts;%WINPYDIR%\\..\\tools;%WINPYDIR%\\..\\tools\\mingw32\\bin;%PATH%;%WINPYDIR%\\..\\tools\\TortoiseHg\n",
      "\n",
      "set JULIA_HOME=%WINPYDIR%\\..\\tools\\Julia\\bin\\\n",
      "if  exist \"%JULIA_HOME%\" goto julia_next\n",
      "echo --------------------\n",
      "echo First install Julia in \\tools\\Julia of winpython\n",
      "echo suggestion : don't create Julia shortcuts, nor menu, nor desktop icons \n",
      "echo (they would create a .julia in your home directory rather than here)\n",
      "echo When it will be done, launch again this .bat\n",
      "\n",
      "if not exist \"%JULIA_HOME%\" goto julia_end\n",
      "\n",
      ":julia_next\n",
      "set SYS_PATH=%PATH%\n",
      "set PATH=%JULIA_HOME%;%SYS_PATH%\n",
      "\n",
      "set JULIA_EXE=julia.exe\n",
      "set JULIA=%JULIA_HOME%%JULIA_EXE%\n",
      "set private_libdir=bin\n",
      "if not exist \"%JULIA_HOME%..\\lib\\julia\\sys.ji\" ( ^\n",
      "echo \"Preparing Julia for first launch. This may take a while\" && ^\n",
      "echo \"You may see two git related errors. This is completely normal\" && ^\n",
      "cd \"%JULIA_HOME%..\\share\\julia\\base\" && ^\n",
      "\"%JULIA%\" --build \"%JULIA_HOME%..\\lib\\julia\\sys0\" sysimg.jl && ^\n",
      "\"%JULIA%\" --build \"%JULIA_HOME%..\\lib\\julia\\sys\" -J sys0.ji sysimg.jl && ^\n",
      "popd && pushd \"%cd%\" )\n",
      "\n",
      "echo \"julia!\"\n",
      "echo --------------------\n",
      "echo to install Ijulia for Winpython (the first time) :\n",
      "echo type 'julia'\n",
      "echo type in Julia prompt 'Pkg.add(\"IJulia\")'\n",
      "echo type in Julia prompt 'Pkg.add(\"PyCall\")'\n",
      "echo type in Julia prompt 'Pkg.add(\"PyPlot\")'\n",
      "echo type 'Ctrl + 'D' to quit Julia \n",
      "echo nota : type 'help()' to get help in Julia\n",
      "echo --------------------\n",
      "rem 2014-08-23 refinement\n",
      "echo or let me do it now\n",
      "pause\n",
      "echo Pkg.add(\"IJulia\")>this_is_temporary.jl\n",
      "echo Pkg.add(\"PyCall\")>this_is_temporary.jl\n",
      "echo Pkg.add(\"PyPlot\")>this_is_temporary.jl\n",
      "echo Pkg.rm(\"IJulia\")>this_is_temporary.jl\n",
      "echo Pkg.add(\"IJulia\")>this_is_temporary.jl\n",
      "echo Pkg.rm(\"PyCall\")>this_is_temporary.jl\n",
      "echo Pkg.add(\"PyCall\")>this_is_temporary.jl\n",
      "echo Pkg.rm(\"PyPlot\")>this_is_temporary.jl\n",
      "echo Pkg.add(\"PyPlot\")>this_is_temporary.jl\n",
      "@echo on\n",
      "julia this_is_temporary.jl -i \n",
      "pause\n",
      "\n",
      "echo if error during build process (July18th, 2014), look there for workaround)\n",
      "echo \"https://github.com/JuliaLang/WinRPM.jl/issues/27#issuecomment-49189546\"\n",
      "echo --------------------\n",
      "rem (not working as of july 18th, 2014 : \n",
      "rem    https://github.com/JuliaLang/IJulia.jl/issues/206 )\n",
      "rem echo to enable use of julia from python  (the first time) :  \n",
      "rem echo    launch winpython command prompt\n",
      "rem echo    cd  ..\\settings\\.julia\\v0.3\\IJulia\\python \n",
      "rem echo    python setup.py install\n",
      "rem echo see http://blog.leahhanson.us/julia-calling-python-calling-julia.html\n",
      "rem echo --------------------\n",
      "echo to launch Ijulia type now \"Ipython notebook --profile julia\"\n",
      "rem Ipython notebook --profile julia\n",
      "echo to use julia_magic from Ipython, type \"Ipython notebook\" instead.\n",
      ":julia_end\n",
      "cmd.exe /k\n",
      "\"\"\"\n",
      "bat_text = bat_text.replace(\"blablaPYTHON\",os.path.split(os.environ[\"WINPYDIR\"])[1])\n",
      "bat_text = bat_text.replace(\"blablaWINPYVER\",os.environ[\"WINPYVER\"])\n",
      "julia_initializer_bat=os.environ[\"WINPYDIR\"]+\"\\\\..\\\\scripts\\\\initialize_julia_once.bat\"\n",
      "if sys.version_info[0] == 3:\n",
      "    with io.open(julia_initializer_bat, 'w', encoding = sys.getdefaultencoding() ) as f:\n",
      "        for line in bat_text.splitlines():\n",
      "            f.write('%s\\n' %  line  )\n",
      "else:\n",
      "    with io.open(julia_initializer_bat, 'wb'  ) as f:\n",
      "        for line in bat_text.splitlines():\n",
      "            f.write('%s\\r\\n' %  line.encode(sys.getdefaultencoding()) )"
     ],
     "language": "python",
     "metadata": {},
     "outputs": [],
     "prompt_number": 7
    },
    {
     "cell_type": "code",
     "collapsed": false,
     "input": [
      "# let's initialize Julia and install \"IJulia\", \"PyCall\", and \"PyPlot\" Julia modules with this .bat just created\n",
      "# may take about 3 minutes (Julia will download a lot of things)\n",
      "!start cmd /C %WINPYDIR%\\\\..\\\\scripts\\\\initialize_julia_once.bat"
     ],
     "language": "python",
     "metadata": {},
     "outputs": [],
     "prompt_number": 9
    },
    {
     "cell_type": "markdown",
     "metadata": {},
     "source": [
      "##2.1 - intermediate check \n",
      "\n",
      "Check that you see a directory winpython**\\settings\\.ipython\\\\profile_julia\n",
      "\n",
      "If it is not there, you may have to apply paragraph  5 - solution1 now"
     ]
    },
    {
     "cell_type": "code",
     "collapsed": false,
     "input": [
      "# let's launch Ijulia for Ipython now\n",
      "# Writing a julia initial run script, for convenience\n",
      "bat_text = r\"\"\"\n",
      "@echo off\n",
      "set WINPYDIR=%~dp0..\\blablaPYTHON\n",
      "set WINPYVER=blablaWINPYVER\n",
      "set HOME=%WINPYDIR%\\..\\settings\n",
      "set PATH=%WINPYDIR%\\Lib\\site-packages\\PyQt4;%WINPYDIR%\\;%WINPYDIR%\\DLLs;%WINPYDIR%\\Scripts;%WINPYDIR%\\..\\tools;%WINPYDIR%\\..\\tools\\mingw32\\bin;%PATH%;%WINPYDIR%\\..\\tools\\TortoiseHg\n",
      "\n",
      "set JULIA_HOME=%WINPYDIR%\\..\\tools\\Julia\\bin\\\n",
      "\n",
      "set SYS_PATH=%PATH%\n",
      "set PATH=%JULIA_HOME%;%SYS_PATH%\n",
      "\n",
      "set JULIA_EXE=julia.exe\n",
      "set JULIA=%JULIA_HOME%%JULIA_EXE%\n",
      "\n",
      "Ipython notebook --profile julia\n",
      "echo to use julia_magic from Ipython, type \"Ipython notebook\" instead.\n",
      ":julia_end\n",
      "cmd.exe /k\n",
      "\"\"\"\n",
      "bat_text = bat_text.replace(\"blablaPYTHON\",os.path.split(os.environ[\"WINPYDIR\"])[1])\n",
      "bat_text = bat_text.replace(\"blablaWINPYVER\",os.environ[\"WINPYVER\"])\n",
      "\n",
      "ijulia_launcher_bat=os.environ[\"WINPYDIR\"]+\"\\\\..\\\\scripts\\\\ijulia_launcher.bat\"\n",
      "if sys.version_info[0] == 3:\n",
      "    with io.open(ijulia_launcher_bat, 'w', encoding = sys.getdefaultencoding() ) as f:\n",
      "        for line in bat_text.splitlines():\n",
      "            f.write('%s\\n' %  line  )\n",
      "else:\n",
      "    with io.open(ijulia_launcher_bat, 'wb'  ) as f:\n",
      "        for line in bat_text.splitlines():\n",
      "            f.write('%s\\r\\n' %  line.encode(sys.getdefaultencoding()) )\n"
     ],
     "language": "python",
     "metadata": {},
     "outputs": [],
     "prompt_number": 10
    },
    {
     "cell_type": "markdown",
     "metadata": {},
     "source": [
      "###3 - Launching IJulia \n",
      "\n",
      "either from here\n",
      "\n",
      "either with your new winpython**\\scripts\\ijulia_launcher.bat"
     ]
    },
    {
     "cell_type": "code",
     "collapsed": false,
     "input": [
      "!start cmd /C %WINPYDIR%\\\\..\\\\scripts\\\\ijulia_launcher.bat"
     ],
     "language": "python",
     "metadata": {},
     "outputs": [],
     "prompt_number": 11
    },
    {
     "cell_type": "markdown",
     "metadata": {},
     "source": [
      "And now, you should see a IJulia notebook starting next to this IPython Notebook\n",
      "\n",
      "Check a new Ijulia notebook works with a few julia commands\n",
      "````\n",
      "println(2+2);\n",
      "versioninfo(true)\n",
      "````\n",
      "\n",
      "<img src=\"https://raw.githubusercontent.com/stonebig/winpython_afterdoc/master/examples/images/IJulia_first_cry.gif\">"
     ]
    },
    {
     "cell_type": "markdown",
     "metadata": {},
     "source": [
      "###4 - Julia Magic ?\n",
      "What preceeds should work with all previous version of winpython\n",
      "\n",
      "This part may only work for recent winpythons "
     ]
    },
    {
     "cell_type": "code",
     "collapsed": false,
     "input": [
      "# first, we must patch the path\n",
      "import os\n",
      "os.environ[\"JULIA_HOME\"] = os.environ[\"WINPYDIR\"]+\"\\\\..\\\\tools\\\\Julia\\\\bin\\\\\"\n",
      "os.environ[\"JULIA_EXE\"]=\"julia.exe\"\n",
      "if \"\\\\julia\\\\\" not in  os.environ[\"PATH\"].lower():\n",
      "    os.environ[\"JULIA\"]=os.environ[\"JULIA_HOME\"]+os.environ[\"JULIA_EXE\"]\n",
      "    os.environ[\"PATH\"]  =os.environ[\"JULIA_HOME\"]+\";\"+os.environ[\"PATH\"]\n",
      "#now we can\n",
      "%load_ext julia.magic"
     ],
     "language": "python",
     "metadata": {},
     "outputs": [
      {
       "output_type": "stream",
       "stream": "stdout",
       "text": [
        "Initializing Julia interpreter. This may take some time..."
       ]
      },
      {
       "output_type": "stream",
       "stream": "stdout",
       "text": [
        " Julia error ? Failed to initialize PyCall package\n",
        "\n"
       ]
      }
     ],
     "prompt_number": 12
    },
    {
     "cell_type": "code",
     "collapsed": false,
     "input": [
      "# don't worry if you see \"Julia error ? Failed to initialize PyCall package\" and continue as usual \n",
      "%julia @pyimport matplotlib.pyplot as plt\n",
      "%julia @pyimport numpy as np"
     ],
     "language": "python",
     "metadata": {},
     "outputs": [],
     "prompt_number": 13
    },
    {
     "cell_type": "code",
     "collapsed": false,
     "input": [
      "%%julia\n",
      "\n",
      "# Note how we mix numpy and julia:\n",
      "t = linspace(0, 2*pi, 1000); # use the julia linspace\n",
      "s = sin(3 * t + 4 * np.cos(2 * t)); # use the numpy cosine and julia sine\n",
      "\n",
      "fig = plt.gcf()  # **** WATCH THIS VARIABLE ****\n",
      "plt.plot(t, s, color=\"red\", linewidth=2.0, linestyle=\"--\")"
     ],
     "language": "python",
     "metadata": {},
     "outputs": [
      {
       "metadata": {},
       "output_type": "pyout",
       "prompt_number": 14,
       "text": [
        "[<matplotlib.lines.Line2D at 0x5e5b270>]"
       ]
      },
      {
       "metadata": {},
       "output_type": "display_data",
       "png": "[encoded data removed]",
       "text": [
        "<matplotlib.figure.Figure at 0x5195670>"
       ]
      }
     ],
     "prompt_number": 14
    },
    {
     "cell_type": "markdown",
     "metadata": {},
     "source": [
      "#5 - To Un-install  / Re-install Julia and Ijulia (or other trouble-shooting)\n",
      "\n",
      "If the Ijulia doesn't work because of a \"dead kernel\" the comes every minute)\n",
      "\n",
      "* solution1 :\n",
      "\n",
      "kill all Ipython instances that are running \n",
      "\n",
      "launch winpython\\scripts\\start_ijulia.bat\n",
      "\n",
      "type Julia\n",
      "\n",
      "  (you are in Julia interpreter)\n",
      "  \n",
      "  Pkg.rm(\"IJulia\")\n",
      "  \n",
      "  Pkg.add(\"IJulia\")\n",
      "\n",
      "  Pkg.add(\"PyCall\")\n",
      "  \n",
      "  Pkg.add(\"PyPlot\")\n",
      "\n",
      "Ctrl+D  (go leave Julia interpreter) \n",
      "\n",
      "* solution2 :\n",
      "\n",
      "kill all Ipython instances that are running \n",
      "\n",
      "launch  winpython**\\tools\\Julia\\uninstall.exe\n",
      "\n",
      "delete the directory winpython**\\settings\\.julia\n",
      "\n",
      "remove winpython**\\settings\\.ipython\\default_julia\n",
      "\n",
      "(maybe check you don't have an annoying c:\\users\\your_windows_profile\\.ipython\\default_julia)\n",
      "\n",
      "re-install\n"
     ]
    },
    {
     "cell_type": "code",
     "collapsed": false,
     "input": [],
     "language": "python",
     "metadata": {},
     "outputs": []
    }
   ],
   "metadata": {}
  }
 ]
}