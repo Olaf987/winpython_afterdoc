{
 "metadata": {
  "language": "Julia",
  "name": "",
  "signature": "sha256:192e4d46c0cb750657963e1d64e681acb38bfa2d88edf4fe02d7af3b64c09f5e"
 },
 "nbformat": 3,
 "nbformat_minor": 0,
 "worksheets": [
  {
   "cells": [
    {
     "cell_type": "markdown",
     "metadata": {},
     "source": [
      "# Experimenting your Winpython installation\n",
      "  . [Winpython_checker test](Winpython_checker.ipynb)"
     ]
    },
    {
     "cell_type": "markdown",
     "metadata": {},
     "source": [
      "# Tutorials and Demonstrations on Internet\n",
      "\n",
      "## Ipython Notebook Documentation\n",
      " \n",
      " . [Ipython notebook-based online documentation] http://nbviewer.ipython.org/github/ipython/ipython/blob/master/examples/Index.ipynb\n",
      " \n",
      " . [Galery of Interesting Notebooks] https://github.com/ipython/ipython/wiki/A-gallery-of-interesting-IPython-Notebooks\n",
      " \n",
      "\n",
      "## Qt User Interface Development :\n",
      "\n",
      " . QT4.8 Official Documentation http://qt-project.org/doc/qt-4.8/tutorials.html\n",
      " \n",
      " . formlayout : doing your QT formular   https://code.google.com/p/formlayout\n",
      " \n",
      " . guidata : https://pythonhosted.org/guidata/examples.html\n",
      " \n",
      "## Graphics :\n",
      "\n",
      " . Matplotlib : [Beginner's guide](http://matplotlib.org/users/beginner.html) , [Gallery](http://matplotlib.org/gallery.html) ,  [General Content](http://matplotlib.org/contents.html) \n",
      " \n",
      " . seaborn : [Tutorial](http://stanford.edu/~mwaskom/software/seaborn/tutorial.html) , [Gallery](http://stanford.edu/~mwaskom/software/seaborn/examples/index.html)\n",
      " \n",
      " . ggplot : [How it works](http://ggplot.yhathq.com/how-it-works.html) , [Documentation](http://ggplot.yhathq.com/docs/index.html)\n",
      "  \n",
      " . mpld3 :   [Gallery](http://mpld3.github.io/examples/index.html#example-gallery) \n",
      " \n",
      " . scikit-image : [Gallery](http://scikit-image.org/docs/dev/auto_examples/), [User Guide](http://scikit-image.org/docs/dev/user_guide.html)\n",
      " \n",
      "## SQL\n",
      "  . IPython-SQL : [Tutorial](http://nbviewer.ipython.org/gist/catherinedevlin/6588378)\n",
      "  \n",
      "  . db.py : [Tutorial](http://nbviewer.ipython.org/github/yhat/db.py/blob/master/examples/db-example.ipynb)\n",
      "  \n",
      "  . baresql : [Tutorial](https://pypi.python.org/pypi/baresql)\n",
      "\n",
      "## Machine learning\n",
      " . scikit-learn : [Tutorial](http://scikit-learn.org/stable/tutorial/index.html) , [Gallery](http://scikit-learn.org/stable/auto_examples/index.html)\n",
      " \n",
      "\n",
      " \n",
      "## Winpython\n",
      "\n",
      ". [Winpython Discussion Group](https://groups.google.com/forum/#!forum/winpython)\n",
      "  \n",
      ". [Other Winpython examples](http://nbviewer.ipython.org/github/winpython/winpython_afterdoc/tree/master/examples/)\n"
     ]
    },
    {
     "cell_type": "code",
     "collapsed": false,
     "input": [],
     "language": "python",
     "metadata": {},
     "outputs": []
    }
   ],
   "metadata": {}
  }
 ]
}