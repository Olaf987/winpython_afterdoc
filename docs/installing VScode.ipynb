{
 "cells": [
  {
   "cell_type": "markdown",
   "metadata": {},
   "source": [
    "# Installating and using portable VScode (version of 2019-08-25)\n",
    "\n",
    "read also https://code.visualstudio.com/docs/editor/portable\n",
    "\n",
    "Portable mode is only supported on the Windows ZIP archive of vscode\n",
    "\n"
   ]
  },
  {
   "cell_type": "code",
   "execution_count": 3,
   "metadata": {},
   "outputs": [
    {
     "name": "stdout",
     "output_type": "stream",
     "text": [
      "C:\\WinP\\bd37\\buPs2\\WPy64-3741b2\n"
     ]
    }
   ],
   "source": [
    "!echo %winpydirbase%"
   ]
  },
  {
   "cell_type": "markdown",
   "metadata": {},
   "source": [
    "### 1 - Downloading and Installing the right VScode binary in the right place\n",
    "go to https://code.visualstudio.com/Download\n",
    "\n",
    "download a VSCode \"zip\" version for Windows\n",
    "\n",
    "unzip it and rename the top directory as \"VScode\"\n",
    "\n",
    "place it under Winpython base directory %winpydirbase%\\t\\\n",
    "\n",
    "you must have the code.exe executable in  %winpydirbase%\\t\\VSCode\\code.exe"
   ]
  },
  {
   "cell_type": "markdown",
   "metadata": {},
   "source": [
    "### 2 - prepare Portable VScode\n",
    "\n",
    "create the directory %winpydirbase%\\t\\VSCode\\data : seeing it VScode will put all is parametrizing there.\n",
    "\n",
    "create the directory %winpydirbase%\\t\\VSCode\\data\\user-data\\user\\settings.json as follow: \n",
    "\n",
    "````json\n",
    "{\n",
    "    \"python.pythonPath\": \"${env:WINPYDIR\\\\python.exe}\",\n",
    "}\n",
    "````\n",
    "\n",
    "nota: the \"VS Code\" icon of WinPython should work with a fixed-PC installed VScode, by changing the setting of python.pythonPath as indicated above"
   ]
  },
  {
   "cell_type": "markdown",
   "metadata": {},
   "source": [
    "### 3 - Launch \"VS Code\" icon (at base directory of Winpython)\n",
    "\n",
    "nota: it will launch the script\\winvscode.bat:\n",
    "```DOS\n",
    "@echo off\n",
    "rem launcher for VScode\n",
    "call \"%~dp0env_for_icons.bat\"\n",
    "cd/D \"%WINPYWORKDIR%\"\n",
    "if exist \"%WINPYDIR%\\..\\t\\vscode\\code.exe\" (\n",
    "    \"%WINPYDIR%\\..\\t\\vscode\\code.exe\" %*\n",
    ") else (\n",
    "    \"code.exe\" %*\n",
    ")\n",
    "```\n",
    "\n"
   ]
  },
  {
   "cell_type": "markdown",
   "metadata": {},
   "source": [
    "### 4  - add the python extension\n",
    "\n",
    "go to vscode market place and install (with VScode open, so it will automatically understand the demand) \n",
    "https://marketplace.visualstudio.com/items?itemName=ms-python.python\n"
   ]
  },
  {
   "cell_type": "markdown",
   "metadata": {},
   "source": [
    "### 5 - using \"VS Code\"\n",
    "\n",
    "#### Python file (.py)\n",
    "Open via \"File->Open\" of VScode  a python file, like for example %winpydirbase\\notebook\\minesweeper.py\n",
    "\n",
    "\"Right-Click\" in the middle of the source file and choose  \"Run Python File in Terminal\"\n",
    "\n",
    "#### Ipython Notebook (.ipynb)\n",
    "\n",
    "see https://code.visualstudio.com/docs/python/jupyter-support\n",
    "\n",
    "on the File Explorer of VS Code, right click on \"baresql experiment.ipynb\" and choose \"Import Jupyter Notebook\"\n",
    "\n",
    "(yes, it does an import with some transformation)\n",
    "\n",
    "\"Right Click\" on the source file obtained and choose \"Run all cells\" or click on individual \"Run cell\" that are displayed in the imported source.\n",
    "\n",
    "**beware** Jupyter is very **slow to start** (twice slower than in direct mode ?)"
   ]
  },
  {
   "cell_type": "code",
   "execution_count": null,
   "metadata": {},
   "outputs": [],
   "source": []
  }
 ],
 "metadata": {
  "kernelspec": {
   "display_name": "Python 3",
   "language": "python",
   "name": "python3"
  },
  "language_info": {
   "codemirror_mode": {
    "name": "ipython",
    "version": 3
   },
   "file_extension": ".py",
   "mimetype": "text/x-python",
   "name": "python",
   "nbconvert_exporter": "python",
   "pygments_lexer": "ipython3",
   "version": "3.7.4"
  }
 },
 "nbformat": 4,
 "nbformat_minor": 4
}
