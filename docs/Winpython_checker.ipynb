{
 "cells": [
  {
   "cell_type": "markdown",
   "metadata": {},
   "source": [
    "#  Winpython Default checker"
   ]
  },
  {
   "cell_type": "code",
   "execution_count": null,
   "metadata": {
    "collapsed": true
   },
   "outputs": [],
   "source": [
    "%matplotlib inline"
   ]
  },
  {
   "cell_type": "markdown",
   "metadata": {},
   "source": [
    "## Compilers: Numba and Cython\n",
    "\n",
    "##### Numba (a JIT Compiler)\n",
    "Windows 7 and 8  users may have to install \"Microsoft Visual C++ 2015 Redistributable\" at  <https://www.visualstudio.com/downloads/download-visual-studio-vs#d-visual-c>"
   ]
  },
  {
   "cell_type": "code",
   "execution_count": null,
   "metadata": {
    "collapsed": false
   },
   "outputs": [],
   "source": [
    "# checking Numba JIT toolchain\n",
    "import numpy as np\n",
    "image = np.zeros((1024, 1536), dtype = np.uint8)\n",
    "\n",
    "from pylab import imshow, show\n",
    "from timeit import default_timer as timer\n",
    "from numba import autojit\n",
    "\n",
    "@autojit\n",
    "def mandel(x, y, max_iters):\n",
    "  c = complex(x, y)\n",
    "  z = 0.0j\n",
    "  for i in range(max_iters):\n",
    "    z = z*z + c\n",
    "    if (z.real*z.real + z.imag*z.imag) >= 4:\n",
    "      return i\n",
    "  return max_iters\n",
    "\n",
    "def create_fractal(min_x, max_x, min_y, max_y, image, iters , mandelx):\n",
    "  height = image.shape[0]\n",
    "  width = image.shape[1]\n",
    "  pixel_size_x = (max_x - min_x) / width\n",
    "  pixel_size_y = (max_y - min_y) / height\n",
    "    \n",
    "  for x in range(width):\n",
    "    real = min_x + x * pixel_size_x\n",
    "    for y in range(height):\n",
    "      imag = min_y + y * pixel_size_y\n",
    "      color = mandelx(real, imag, iters)\n",
    "      image[y, x] = color\n",
    "start = timer()\n",
    "create_fractal(-2.0, 1.0, -1.0, 1.0, image, 20 , mandel) \n",
    "dt = timer() - start\n",
    "\n",
    "print (\"Mandelbrot created by numba in %f s\" % dt)\n",
    "imshow(image)\n",
    "show()"
   ]
  },
  {
   "cell_type": "markdown",
   "metadata": {},
   "source": [
    "##### Cython (a compiler for writing C extensions for the Python language)\n",
    "WinPython 3.5 users may not have mingwpy available, and so need \"VisualStudio C++ Community Edition 2015\" https://www.visualstudio.com/downloads/download-visual-studio-vs#d-visual-c  "
   ]
  },
  {
   "cell_type": "code",
   "execution_count": null,
   "metadata": {
    "collapsed": false
   },
   "outputs": [],
   "source": [
    "# Cython + Mingwpy compiler toolchain test\n",
    "%load_ext Cython"
   ]
  },
  {
   "cell_type": "code",
   "execution_count": null,
   "metadata": {
    "collapsed": false
   },
   "outputs": [],
   "source": [
    "%%cython -a\n",
    "# with %%cython -a , full C-speed lines are shown in white, slowest python-speed lines are shown in dark yellow lines \n",
    "# ==> put your cython rewrite effort on dark yellow lines\n",
    "def mandel_cython(x, y, max_iters):\n",
    "  cdef int   i \n",
    "  cdef double   cx, cy , zx, zy\n",
    "  cx , cy = x, y \n",
    "  zx , zy =0 ,0 \n",
    "  for i in range(max_iters):\n",
    "    zx , zy = zx*zx - zy*zy + cx , zx*zy*2 + cy\n",
    "    if (zx*zx + zy*zy) >= 4:\n",
    "      return i\n",
    "  return max_iters"
   ]
  },
  {
   "cell_type": "code",
   "execution_count": null,
   "metadata": {
    "collapsed": false
   },
   "outputs": [],
   "source": [
    "start = timer()\n",
    "create_fractal(-2.0, 1.0, -1.0, 1.0, image, 20 , mandel_cython) \n",
    "dt = timer() - start\n",
    "\n",
    "print (\"Mandelbrot created by cython in %f s\" % dt)\n",
    "imshow(image)\n",
    "show()"
   ]
  },
  {
   "cell_type": "markdown",
   "metadata": {},
   "source": [
    "##  Graphics: Matplotlib, Pandas, Seaborn, bqplot, Bokeh, Holoviews"
   ]
  },
  {
   "cell_type": "code",
   "execution_count": null,
   "metadata": {
    "collapsed": false
   },
   "outputs": [],
   "source": [
    "# Matplotlib\n",
    "# for more examples, see: http://matplotlib.org/gallery.html\n",
    "from mpl_toolkits.mplot3d import axes3d\n",
    "import matplotlib.pyplot as plt\n",
    "from matplotlib import cm\n",
    "\n",
    "fig = plt.figure()\n",
    "ax = fig.gca(projection='3d')\n",
    "X, Y, Z = axes3d.get_test_data(0.05)\n",
    "ax.plot_surface(X, Y, Z, rstride=8, cstride=8, alpha=0.3)\n",
    "cset = ax.contourf(X, Y, Z, zdir='z', offset=-100, cmap=cm.coolwarm)\n",
    "cset = ax.contourf(X, Y, Z, zdir='x', offset=-40, cmap=cm.coolwarm)\n",
    "cset = ax.contourf(X, Y, Z, zdir='y', offset=40, cmap=cm.coolwarm)\n",
    "\n",
    "ax.set_xlabel('X')\n",
    "ax.set_xlim(-40, 40)\n",
    "ax.set_ylabel('Y')\n",
    "ax.set_ylim(-40, 40)\n",
    "ax.set_zlabel('Z')\n",
    "ax.set_zlim(-100, 100)\n",
    "\n",
    "plt.show()"
   ]
  },
  {
   "cell_type": "code",
   "execution_count": null,
   "metadata": {
    "collapsed": false
   },
   "outputs": [],
   "source": [
    "%matplotlib inline\n",
    "# Pandas interactive\n",
    "import pandas as pd\n",
    "import numpy as np\n",
    "import seaborn as sns\n",
    "\n",
    "# create a df with random datas\n",
    "np.random.seed(24)\n",
    "df = pd.DataFrame({'A': np.linspace(1, 10, 10)})\n",
    "df = pd.concat([df, pd.DataFrame(np.random.randn(10, 4), columns=list('BCDE'))],\n",
    "               axis=1)\n",
    "df.iloc[0, 2] = np.nan\n",
    "\n",
    "# interactive\n",
    "from IPython.html import widgets\n",
    "@widgets.interact\n",
    "def f(h_neg=(0, 359, 1), h_pos=(0, 359), s=(0., 99.9), l=(0., 99.9)):\n",
    "    return (df\n",
    "             .style\n",
    "             .background_gradient(\n",
    "                cmap=sns.palettes.diverging_palette(\n",
    "                     h_neg=h_neg, h_pos=h_pos, s=s, l=l, as_cmap=True)\n",
    "             ).highlight_null()\n",
    "           )"
   ]
  },
  {
   "cell_type": "code",
   "execution_count": null,
   "metadata": {
    "collapsed": false
   },
   "outputs": [],
   "source": [
    "# Seaborn\n",
    "# for more examples, see http://stanford.edu/~mwaskom/software/seaborn/examples/index.html\n",
    "import seaborn as sns\n",
    "sns.set()\n",
    "df = sns.load_dataset(\"iris\")\n",
    "sns.pairplot(df, hue=\"species\", size=1.5)"
   ]
  },
  {
   "cell_type": "code",
   "execution_count": null,
   "metadata": {
    "collapsed": true
   },
   "outputs": [],
   "source": [
    "#bqplot\n",
    "from IPython.display import display\n",
    "from bqplot import (Figure, Map, Mercator, Orthographic, ColorScale, ColorAxis,\n",
    "                    AlbersUSA, topo_load, Tooltip)\n",
    "def_tt = Tooltip(fields=['id', 'name'])\n",
    "map_mark = Map(scales={'projection': Mercator()}, tooltip=def_tt)\n",
    "map_mark.interactions = {'click': 'select', 'hover': 'tooltip'}\n",
    "fig = Figure(marks=[map_mark], title='Interactions Example')\n",
    "display(fig)"
   ]
  },
  {
   "cell_type": "code",
   "execution_count": null,
   "metadata": {
    "collapsed": false
   },
   "outputs": [],
   "source": [
    "# ipyleaflet (javascript library usage)\n",
    "from ipyleaflet import (\n",
    "    Map, Marker, TileLayer, ImageOverlay, Polyline, Polygon,\n",
    "    Rectangle, Circle, CircleMarker, GeoJSON, DrawControl\n",
    ")\n",
    "from traitlets import link\n",
    "center = [34.6252978589571, -77.34580993652344]\n",
    "m = Map(center=[34.6252978589571, -77.34580993652344], zoom=10)\n",
    "dc = DrawControl()\n",
    "\n",
    "def handle_draw(self, action, geo_json):\n",
    "    print(action)\n",
    "    print(geo_json)\n",
    "m\n",
    "m"
   ]
  },
  {
   "cell_type": "code",
   "execution_count": null,
   "metadata": {
    "collapsed": true
   },
   "outputs": [],
   "source": [
    "dc.on_draw(handle_draw)\n",
    "m.add_control(dc)"
   ]
  },
  {
   "cell_type": "code",
   "execution_count": null,
   "metadata": {
    "collapsed": false
   },
   "outputs": [],
   "source": [
    "# Bokeh 0.11.0\n",
    "# for more examples, see http://nbviewer.jupyter.org/github/bokeh/bokeh-notebooks/blob/master/index.ipynb\n",
    "import matplotlib.pyplot as plt\n",
    "import numpy as np\n",
    "import pandas as pd\n",
    "import os\n",
    "from bokeh import mpl\n",
    "from bokeh.plotting import output_notebook, show\n",
    "import matplotlib as mplc\n",
    "# Generate the pandas dataframe\n",
    "data = np.random.multivariate_normal([0, 0], [[1, 2], [2, 20]], size=100)\n",
    "data = pd.DataFrame(data, columns=[\"X\", \"Y\"])\n",
    "mplc.rc(\"figure\", figsize=(6, 6))\n",
    "\n",
    "# Just plot seaborn kde\n",
    "import seaborn as sns\n",
    "sns.kdeplot(data, cmap=\"BuGn_d\")\n",
    "\n",
    "plt.title(\"Seaborn kdeplot in bokeh.\")\n",
    "\n",
    "from bokeh.resources import INLINE\n",
    "# default solution output_notebook() relies on pydata.org (but spare 2Mo of inline jsscript in your notebook)\n",
    "# other method to get internal bokeh script can be\n",
    "#    os.environ['BOKEH_RESOURCES'] = 'inline'\n",
    "output_notebook(resources=INLINE)\n",
    "\n",
    "show(mpl.to_bokeh())"
   ]
  },
  {
   "cell_type": "code",
   "execution_count": null,
   "metadata": {
    "collapsed": false
   },
   "outputs": [],
   "source": [
    "# Holoviews \n",
    "# for more example, see http://holoviews.org/Tutorials/index.html\n",
    "import holoviews as hv\n",
    "%load_ext holoviews.ipython\n",
    "fractal = hv.Image(image)\n",
    "\n",
    "((fractal * hv.HLine(y=0.16)).hist() + fractal.sample(y=0.16))"
   ]
  },
  {
   "cell_type": "markdown",
   "metadata": {},
   "source": [
    "## Ipython Notebook: Interactivity & other"
   ]
  },
  {
   "cell_type": "code",
   "execution_count": null,
   "metadata": {
    "collapsed": false
   },
   "outputs": [],
   "source": [
    "import IPython;IPython.__version__"
   ]
  },
  {
   "cell_type": "code",
   "execution_count": null,
   "metadata": {
    "collapsed": false
   },
   "outputs": [],
   "source": [
    "# Audio Example : https://github.com/ipython/ipywidgets/blob/master/examples/Beat%20Frequencies.ipynb\n",
    "%matplotlib inline\n",
    "import matplotlib.pyplot as plt\n",
    "import numpy as np\n",
    "from ipywidgets import interactive\n",
    "from IPython.display import Audio, display\n",
    "def beat_freq(f1=220.0, f2=224.0):\n",
    "    max_time = 3\n",
    "    rate = 8000\n",
    "    times = np.linspace(0,max_time,rate*max_time)\n",
    "    signal = np.sin(2*np.pi*f1*times) + np.sin(2*np.pi*f2*times)\n",
    "    print(f1, f2, abs(f1-f2))\n",
    "    display(Audio(data=signal, rate=rate))\n",
    "    return signal\n",
    "v = interactive(beat_freq, f1=(200.0,300.0), f2=(200.0,300.0))\n",
    "display(v)"
   ]
  },
  {
   "cell_type": "code",
   "execution_count": null,
   "metadata": {
    "collapsed": false
   },
   "outputs": [],
   "source": [
    "# Networks graph Example : https://github.com/ipython/ipywidgets/blob/master/examples/Exploring%20Graphs.ipynb\n",
    "%matplotlib inline\n",
    "from ipywidgets import interact\n",
    "import matplotlib.pyplot as plt\n",
    "import networkx as nx\n",
    "# wrap a few graph generation functions so they have the same signature\n",
    "\n",
    "def random_lobster(n, m, k, p):\n",
    "    return nx.random_lobster(n, p, p / m)\n",
    "\n",
    "def powerlaw_cluster(n, m, k, p):\n",
    "    return nx.powerlaw_cluster_graph(n, m, p)\n",
    "\n",
    "def erdos_renyi(n, m, k, p):\n",
    "    return nx.erdos_renyi_graph(n, p)\n",
    "\n",
    "def newman_watts_strogatz(n, m, k, p):\n",
    "    return nx.newman_watts_strogatz_graph(n, k, p)\n",
    "\n",
    "@interact(n=(2,30), m=(1,10), k=(1,10), p=(0.0, 1.0, 0.001),\n",
    "        generator={'lobster': random_lobster,\n",
    "                   'power law': powerlaw_cluster,\n",
    "                   'Newman-Watts-Strogatz': newman_watts_strogatz,\n",
    "                   u'Erdős-Rényi': erdos_renyi,\n",
    "                   })\n",
    "def plot_random_graph(n, m, k, p, generator):\n",
    "    g = generator(n, m, k, p)\n",
    "    nx.draw(g)\n",
    "    plt.title(generator.__name__)\n",
    "    plt.show()\n",
    "    "
   ]
  },
  {
   "cell_type": "code",
   "execution_count": null,
   "metadata": {
    "collapsed": false
   },
   "outputs": [],
   "source": [
    "# checking nbconvert \n",
    "!jupyter nbconvert \"Beginner's FAQ.ipynb\" --to html"
   ]
  },
  {
   "cell_type": "code",
   "execution_count": null,
   "metadata": {
    "collapsed": false
   },
   "outputs": [],
   "source": [
    "%%HTML\n",
    "<iframe src=\"Beginner's FAQ.html\" width=700 height350></iframe>"
   ]
  },
  {
   "cell_type": "markdown",
   "metadata": {},
   "source": [
    "## Mathematical: statsmodels, lmfit, "
   ]
  },
  {
   "cell_type": "code",
   "execution_count": null,
   "metadata": {
    "collapsed": false
   },
   "outputs": [],
   "source": [
    "# checking statsmodels\n",
    "import numpy as np\n",
    "import matplotlib.pyplot as plt\n",
    "plt.style.use('ggplot')\n",
    "import statsmodels.api as sm\n",
    "data = sm.datasets.anes96.load_pandas()\n",
    "party_ID = np.arange(7)\n",
    "labels = [\"Strong Democrat\", \"Weak Democrat\", \"Independent-Democrat\",\n",
    "          \"Independent-Independent\", \"Independent-Republican\",\n",
    "          \"Weak Republican\", \"Strong Republican\"]\n",
    "plt.rcParams['figure.subplot.bottom'] = 0.23  # keep labels visible\n",
    "plt.rcParams['figure.figsize'] = (6.0, 4.0)  # make plot larger in notebook\n",
    "age = [data.exog['age'][data.endog == id] for id in party_ID]\n",
    "fig = plt.figure()\n",
    "ax = fig.add_subplot(111)\n",
    "plot_opts={'cutoff_val':5, 'cutoff_type':'abs',\n",
    "                                'label_fontsize':'small',\n",
    "                                'label_rotation':30}\n",
    "sm.graphics.beanplot(age, ax=ax, labels=labels,\n",
    "                     plot_opts=plot_opts)\n",
    "ax.set_xlabel(\"Party identification of respondent\")\n",
    "ax.set_ylabel(\"Age\")"
   ]
  },
  {
   "cell_type": "code",
   "execution_count": null,
   "metadata": {
    "collapsed": false
   },
   "outputs": [],
   "source": [
    "# lmfit test (from http://nbviewer.ipython.org/github/lmfit/lmfit-py/blob/master/examples/lmfit-model.ipynb)\n",
    "import numpy as np\n",
    "import matplotlib.pyplot as plt\n",
    "def decay(t, N, tau):\n",
    "    return N*np.exp(-t/tau)\n",
    "t = np.linspace(0, 5, num=1000)\n",
    "data = decay(t, 7, 3) + np.random.randn(*t.shape)\n",
    "\n",
    "from lmfit import Model\n",
    "\n",
    "model = Model(decay, independent_vars=['t'])\n",
    "result = model.fit(data, t=t, N=10, tau=1)\n",
    "plt.plot(t, data)  # data\n",
    "plt.plot(t, decay(t=t, **result.values), color='orange', linewidth=5)  # best-fit model"
   ]
  },
  {
   "cell_type": "markdown",
   "metadata": {},
   "source": [
    "## DataFrames: Pandas, Dask"
   ]
  },
  {
   "cell_type": "code",
   "execution_count": null,
   "metadata": {
    "collapsed": false
   },
   "outputs": [],
   "source": [
    "#Pandas \n",
    "import pandas as pd\n",
    "import numpy as np\n",
    "\n",
    "idx = pd.date_range('2000', '2005', freq='d', closed='left')\n",
    "datas = pd.DataFrame({'Color':  [ 'green' if x> 1 else 'red' for x in np.random.randn(len(idx))], \n",
    "         'Measure': np.random.randn(len(idx)), 'Year': idx.year},\n",
    "          index=idx)\n",
    "datas.head()"
   ]
  },
  {
   "cell_type": "markdown",
   "metadata": {},
   "source": [
    "### Split / Apply / Combine    \n",
    "    Split your data into multiple independent groups.\n",
    "    Apply some function to each group.\n",
    "    Combine your groups back into a single data object.\n"
   ]
  },
  {
   "cell_type": "code",
   "execution_count": null,
   "metadata": {
    "collapsed": false
   },
   "outputs": [],
   "source": [
    "datas.query('Measure > 0').groupby(['Color','Year']).size().unstack()"
   ]
  },
  {
   "cell_type": "markdown",
   "metadata": {},
   "source": [
    "## Web Scraping: Beautifulsoup"
   ]
  },
  {
   "cell_type": "code",
   "execution_count": null,
   "metadata": {
    "collapsed": false
   },
   "outputs": [],
   "source": [
    "# checking Web Scraping: beautifulsoup and requests \n",
    "import requests\n",
    "from bs4 import BeautifulSoup\n",
    "\n",
    "URL = 'http://en.wikipedia.org/wiki/Franklin,_Tennessee'\n",
    "\n",
    "req = requests.get(URL, headers={'User-Agent' : \"Mining the Social Web\"})\n",
    "soup = BeautifulSoup(req.text, \"lxml\")\n",
    "\n",
    "geoTag = soup.find(True, 'geo')\n",
    "\n",
    "if geoTag and len(geoTag) > 1:\n",
    "    lat = geoTag.find(True, 'latitude').string\n",
    "    lon = geoTag.find(True, 'longitude').string\n",
    "    print ('Location is at', lat, lon)\n",
    "elif geoTag and len(geoTag) == 1:\n",
    "    (lat, lon) = geoTag.string.split(';')\n",
    "    (lat, lon) = (lat.strip(), lon.strip())\n",
    "    print ('Location is at', lat, lon)\n",
    "else:\n",
    "    print ('No location found')"
   ]
  },
  {
   "cell_type": "markdown",
   "metadata": {},
   "source": [
    "## Operations Research: Pulp"
   ]
  },
  {
   "cell_type": "code",
   "execution_count": null,
   "metadata": {
    "collapsed": false,
    "scrolled": true
   },
   "outputs": [],
   "source": [
    "# Pulp example : minimizing the weight to carry 99 pennies\n",
    "#                (from Philip I Thomas)\n",
    "# see https://www.youtube.com/watch?v=UmMn-N5w-lI#t=995\n",
    "# Import PuLP modeler functions\n",
    "from pulp import *\n",
    "# The prob variable is created to contain the problem data        \n",
    "prob = LpProblem(\"99 pennies Problem\",LpMinimize)\n",
    "\n",
    "# Variables represent how many of each coin we want to carry\n",
    "pennies = LpVariable(\"Number of pennies\",0,None,LpInteger)\n",
    "nickels = LpVariable(\"Number of nickels\",0,None,LpInteger)\n",
    "dimes = LpVariable(\"Number of dimes\",0,None,LpInteger)\n",
    "quarters = LpVariable(\"Number of quarters\",0,None,LpInteger)\n",
    "\n",
    "# The objective function is added to 'prob' first\n",
    "\n",
    "# we want to minimize (LpMinimize) this \n",
    "prob += 2.5 * pennies + 5 * nickels + 2.268 * dimes + 5.670 * quarters, \"Total coins Weight\"\n",
    "\n",
    "# We want exactly 99 cents\n",
    "prob += 1 * pennies + 5 * nickels + 10 * dimes + 25 * quarters == 99, \"\"\n",
    "\n",
    "# The problem data is written to an .lp file\n",
    "prob.writeLP(\"99cents.lp\")\n",
    "prob.solve()\n",
    "\n",
    "# print (\"status\",LpStatus[prob.status] )\n",
    "print (\"Minimal Weight to carry exactly 99 pennies is %s grams\" % value(prob.objective))\n",
    "# Each of the variables is printed with it's resolved optimum value\n",
    "for v in prob.variables():\n",
    "    print (v.name, \"=\", v.varValue)"
   ]
  },
  {
   "cell_type": "markdown",
   "metadata": {},
   "source": [
    "## Deep Learning: Theano"
   ]
  },
  {
   "cell_type": "code",
   "execution_count": null,
   "metadata": {
    "collapsed": false
   },
   "outputs": [],
   "source": [
    "# Checking Theano\n",
    "import theano.tensor as T\n",
    "from theano import function\n",
    "x = T.dmatrix('x')\n",
    "y = T.dmatrix('y')\n",
    "z = x + y\n",
    "f = function([x, y], z)\n",
    "f([[1, 2], [3, 4]], [[10, 20], [30, 40]])"
   ]
  },
  {
   "cell_type": "markdown",
   "metadata": {},
   "source": [
    "## Symbolic Calculation: sympy"
   ]
  },
  {
   "cell_type": "code",
   "execution_count": null,
   "metadata": {
    "collapsed": false
   },
   "outputs": [],
   "source": [
    "# checking sympy \n",
    "import sympy\n",
    "a, b =sympy.symbols('a b')\n",
    "e=(a+b)**5\n",
    "e.expand()"
   ]
  },
  {
   "cell_type": "markdown",
   "metadata": {},
   "source": [
    "## SQL tools: sqlite, Ipython-sql, sqlite_bro, baresql, db.py"
   ]
  },
  {
   "cell_type": "code",
   "execution_count": null,
   "metadata": {
    "collapsed": false
   },
   "outputs": [],
   "source": [
    "# checking Ipython-sql, sqlparse, SQLalchemy\n",
    "%load_ext sql"
   ]
  },
  {
   "cell_type": "code",
   "execution_count": null,
   "metadata": {
    "collapsed": false
   },
   "outputs": [],
   "source": [
    "%%sql sqlite:///.baresql.db\n",
    "DROP TABLE IF EXISTS writer;\n",
    "CREATE TABLE writer (first_name, last_name, year_of_death);\n",
    "INSERT INTO writer VALUES ('William', 'Shakespeare', 1616);\n",
    "INSERT INTO writer VALUES ('Bertold', 'Brecht', 1956);\n",
    "SELECT  * , sqlite_version() as sqlite_version from Writer order by Year_of_death"
   ]
  },
  {
   "cell_type": "code",
   "execution_count": null,
   "metadata": {
    "collapsed": false
   },
   "outputs": [],
   "source": [
    "# checking baresql\n",
    "from __future__ import print_function, unicode_literals, division  # line needed only if Python2.7\n",
    "from baresql import baresql\n",
    "bsql = baresql.baresql(connection=\"sqlite:///.baresql.db\")\n",
    "bsqldf = lambda q: bsql.df(q, dict(globals(),**locals()))\n",
    "\n",
    "users = ['Alexander', 'Billy', 'Charles', 'Danielle', 'Esmeralda', 'Franz', 'Greg']\n",
    "#  We use the python 'users' list like a SQL table\n",
    "sql = \"select 'Welcome ' ||  c0 || ' !' as say_hello, length(c0) as name_length from users$$ where c0 like '%a%' \"\n",
    "bsqldf(sql)"
   ]
  },
  {
   "cell_type": "code",
   "execution_count": null,
   "metadata": {
    "collapsed": false
   },
   "outputs": [],
   "source": [
    "# Transfering Datas to sqlite, doing transformation in sql, going back to Pandas and Matplotlib\n",
    "bsqldf('''\n",
    "select Color, Year, count(*) as size \n",
    "from datas$$ \n",
    "where Measure > 0 \n",
    "group by Color, Year'''\n",
    "          ).set_index(['Year', 'Color']).unstack().plot(kind='bar')"
   ]
  },
  {
   "cell_type": "code",
   "execution_count": null,
   "metadata": {
    "collapsed": false
   },
   "outputs": [],
   "source": [
    "# checking db.py\n",
    "from db import DB\n",
    "db=DB(dbtype=\"sqlite\", filename=\".baresql.db\")\n",
    "db.query(\"select  sqlite_version() as sqlite_version  ;\") "
   ]
  },
  {
   "cell_type": "code",
   "execution_count": null,
   "metadata": {
    "collapsed": false
   },
   "outputs": [],
   "source": [
    "db.tables"
   ]
  },
  {
   "cell_type": "code",
   "execution_count": null,
   "metadata": {
    "collapsed": false
   },
   "outputs": [],
   "source": [
    "# checking sqlite_bro: this should lanch a separate non-browser window with sqlite_bro's welcome\n",
    "!cmd start cmd /C sqlite_bro"
   ]
  },
  {
   "cell_type": "markdown",
   "metadata": {},
   "source": [
    "## Qt libraries Demo\n",
    "\n",
    "  \n",
    "#### See  [Dedicated Qt Libraries Demo](Qt_libraries_demo.ipynb)"
   ]
  },
  {
   "cell_type": "markdown",
   "metadata": {},
   "source": [
    "## Wrap-up"
   ]
  },
  {
   "cell_type": "code",
   "execution_count": null,
   "metadata": {
    "collapsed": false
   },
   "outputs": [],
   "source": [
    "# optional scipy full test (takes up to 10 minutes)\n",
    "#!cmd /C start cmd /k python.exe  -c \"import scipy;scipy.test()\""
   ]
  },
  {
   "cell_type": "code",
   "execution_count": null,
   "metadata": {
    "collapsed": true
   },
   "outputs": [],
   "source": []
  }
 ],
 "metadata": {
  "kernelspec": {
   "display_name": "Python 3",
   "language": "python",
   "name": "python3"
  },
  "language_info": {
   "codemirror_mode": {
    "name": "ipython",
    "version": 3
   },
   "file_extension": ".py",
   "mimetype": "text/x-python",
   "name": "python",
   "nbconvert_exporter": "python",
   "pygments_lexer": "ipython3",
   "version": "3.4.4"
  },
  "widgets": {
   "state": {
    "03c271708c9846daaf3baffd564869c5": {
     "views": []
    },
    "04cf0cf9f23c48a8a54eb1f16a865432": {
     "views": []
    },
    "0596825545eb4798a8d5f30efc4aabe7": {
     "views": []
    },
    "0711b7ebd6824448860f5914b46f6155": {
     "views": []
    },
    "0930193baf034c6ba491047a029b6bbe": {
     "views": []
    },
    "0a1079e9a00141248847ade765f568d7": {
     "views": []
    },
    "0dff4e733ff043d3b50a33da9edeff06": {
     "views": []
    },
    "12bb5a2cf7984be591c544f89cdf3c1a": {
     "views": []
    },
    "14f708f406c14771b858bdd9c3e71c4e": {
     "views": []
    },
    "1537f0dc081e499dbbca4ca66ebf98ac": {
     "views": []
    },
    "16e01bc9c4704efca0a372f667b43fed": {
     "views": []
    },
    "17efb71286e14587813b8a15fd4280bb": {
     "views": []
    },
    "1a35cb2a4bf44bf493d0414c51f3c4f2": {
     "views": []
    },
    "1ad088d938c442e085e33801ff851367": {
     "views": []
    },
    "1bcfc393fe924252af2bfcd14f184df3": {
     "views": []
    },
    "1c2c50626f024d688174bc42246af77d": {
     "views": []
    },
    "1d182c332c1d4915adef723a2f8e5482": {
     "views": [
      {
       "cell_index": 19
      }
     ]
    },
    "233bcbbca66d411db57cbf77f6acddab": {
     "views": []
    },
    "27294eae52f3443398829a9346d48c2c": {
     "views": []
    },
    "280a0150c276484cbb245da4e2f1c7d4": {
     "views": []
    },
    "283e779133c44e94b197c6fc82d50807": {
     "views": []
    },
    "2a954e2d560c4b8a9be8cbd42dc2fc0d": {
     "views": []
    },
    "2c15ac852dda4104997145c5114dc493": {
     "views": []
    },
    "318b12f5d25d46cfb7024fe3624f29e6": {
     "views": []
    },
    "326ffe9b7082445a9b8eaa76e5e536b5": {
     "views": []
    },
    "338dfae5c71544d9a58351806eb7708c": {
     "views": []
    },
    "339314d6b46948e1b434c703019e7195": {
     "views": []
    },
    "33bcc93c30dc4966b7613cae7021a274": {
     "views": []
    },
    "3677f8b1ef644053a3cb0b662787f513": {
     "views": []
    },
    "3d80833e231c4cc79c1673b1f810937b": {
     "views": []
    },
    "3de6de0aacee4d59afc6ef5a6eaa36b0": {
     "views": []
    },
    "3fd81b1d7a6e4fbd9bb624369acb0896": {
     "views": []
    },
    "4198a4808a944e54a1d54d3f28618b3f": {
     "views": []
    },
    "41c2eedd8f144851b19dfc727d9cb6eb": {
     "views": []
    },
    "43703d67fc974cd99ca53954513a0207": {
     "views": []
    },
    "4593eddc72274d6caba4836b28002135": {
     "views": []
    },
    "46d926fde3714dc282a655805e705464": {
     "views": []
    },
    "4900174b2ef044d6a739b61ec13e643c": {
     "views": []
    },
    "4950aad3817b4e44bb838424061fba71": {
     "views": []
    },
    "4a4440bad6034b20a8d144ab05ef9469": {
     "views": []
    },
    "4a79a2f8d0e8419c936c285b780d4124": {
     "views": []
    },
    "4ec7b5d39b6d483fb53faeefed4c1a14": {
     "views": []
    },
    "537bc1fb9b344de18c5dbc8b34c1f065": {
     "views": []
    },
    "5952f4c17e46443cb8329f989ef88ac0": {
     "views": []
    },
    "5964c7d4890d45a0bc5f613fb89a135d": {
     "views": []
    },
    "59d38a870e5b446b8b734e2adda71d08": {
     "views": []
    },
    "5af314d9d674484aa38391fdd912b6e3": {
     "views": []
    },
    "5d626e5abae34cd180f1e18c0105a43c": {
     "views": []
    },
    "5eaa8f703d684ef0bc3c99cea4a4d47a": {
     "views": []
    },
    "5f8f9fbb154e4c7da324688929b8a32f": {
     "views": []
    },
    "601cb676401441b6bb7379023695f9e4": {
     "views": []
    },
    "6bcd95d20a824b0bbbef14ba7ca9dd79": {
     "views": []
    },
    "6c09fd200de14818ae6bbf3cdbaf58a4": {
     "views": []
    },
    "6c765ecdcdd64eab8b717c0c04326e96": {
     "views": []
    },
    "6fd7b0d6095d48a19eb6096148e117b3": {
     "views": []
    },
    "6fe987b8ab83423ca2c500fb061ef775": {
     "views": []
    },
    "70945869201f424094370cadc939f145": {
     "views": []
    },
    "713a6a84da1b40daa515179c57fb01d8": {
     "views": []
    },
    "71f88ebba97a487ba9297396b912d6b6": {
     "views": []
    },
    "74024c9855564ad8a48d3360c3ecc239": {
     "views": []
    },
    "753ebd62776643dea200128f711dffb0": {
     "views": []
    },
    "774ab048418746769dbd2d407b4af4c8": {
     "views": []
    },
    "77b6eab2fee14ce697567628a74f7ef4": {
     "views": []
    },
    "7bb49ef858f04eb6ad6c7ee7d30a6ed5": {
     "views": []
    },
    "7bdd1bddcfb6478d9a74afdc87201445": {
     "views": []
    },
    "7f83b28810d94ddd827a7b3a9e42c8f3": {
     "views": []
    },
    "83b89b07c211483c8be5132579c5f185": {
     "views": []
    },
    "83e5c4ab69d842fd89214e062c3bef7a": {
     "views": []
    },
    "854ee563ef8c4b6cbe12a43ed30b1370": {
     "views": []
    },
    "88c4a68ce20546efb3750d2c7bc0b29d": {
     "views": []
    },
    "897b06976d5d40979b04afed4951ddb7": {
     "views": []
    },
    "8d4a65fda61747319154dadf21a2b882": {
     "views": []
    },
    "8f14ec52651d4148806fec2589963d30": {
     "views": []
    },
    "91d1894ae9b8415db6d045cd02e00d23": {
     "views": []
    },
    "9451a5bc5a8347778c14fba1a9af2c9c": {
     "views": []
    },
    "94a4ebe5f87a4c339404c47876e8edaf": {
     "views": []
    },
    "96a07a0d041140b8888fe9cbbaa99e38": {
     "views": []
    },
    "9adae19ee7504a678eb29c56ad467845": {
     "views": []
    },
    "9addcf112907471b8aa710e40d586eb6": {
     "views": []
    },
    "9ce6cf90a9df426db3370199a4d0d029": {
     "views": []
    },
    "9d1d4e8a593141ae9337036b0287c658": {
     "views": []
    },
    "9ea08cb05bf54faa99cfe17911524c99": {
     "views": []
    },
    "a1e951a4fd2d400bbd35049459a74348": {
     "views": []
    },
    "a25ea49a82134cea893046a1f352d65e": {
     "views": []
    },
    "a5302a44308545b893ec540530001f50": {
     "views": []
    },
    "ab246fee2128459699754e250a24bf7e": {
     "views": []
    },
    "b26bdbe03e8c4871868e981a8b9bb4a9": {
     "views": []
    },
    "b332cb1414704e58a4b77933fe01dc10": {
     "views": []
    },
    "b747394caf0c4c2c9654f3125317af7d": {
     "views": []
    },
    "b7cdedbf924244d284e9d52f040544e1": {
     "views": []
    },
    "baac53f428664a0ea8fa78215e7690ea": {
     "views": []
    },
    "bdf74e15b3634cb4941ea26af52fd3e4": {
     "views": []
    },
    "bfbc814dc4cf44248dd7af52a74adfd9": {
     "views": []
    },
    "c5d16fd27c6e42848a722359464a677a": {
     "views": []
    },
    "c7aaa77cd0134b29b4abe2508faec5f3": {
     "views": []
    },
    "c8d903f7ab8a450e85182bfb435cf097": {
     "views": []
    },
    "c9891418a6f94bc2800a422771982e82": {
     "views": []
    },
    "cbc5fa6548b14bb18b76d34a8c893ce3": {
     "views": []
    },
    "d025ede2d83a4030b442dd31fbd6d328": {
     "views": []
    },
    "d1dd2524367f43788f6fecfb53497675": {
     "views": []
    },
    "d1f23754739c4669b3167983ca4b95f6": {
     "views": []
    },
    "d3b169d0f2474ef7abbe91099f4f4f3e": {
     "views": []
    },
    "d3d5830ad5b14f45ad9dbc30bd83033c": {
     "views": []
    },
    "d923cdfa64d84cd4a1b9789bec6d4693": {
     "views": []
    },
    "db87b2c2b5f04ef69376d2557ad8a3b9": {
     "views": []
    },
    "dd1b7e67180444878835cc74974e3c11": {
     "views": []
    },
    "dfb49e48d43046f5b9337f9ec24db06a": {
     "views": []
    },
    "e01f9d44b75b4f49b1365ed58c08d121": {
     "views": []
    },
    "e4235ec9c1f04dcf9a3149d492aecfb7": {
     "views": []
    },
    "e4d5f10c4c3846b2811983a484511f55": {
     "views": []
    },
    "e812f6d324e24ce589bca62734ba4d00": {
     "views": []
    },
    "ea47c081a0794b85b5cb69dc7b917c63": {
     "views": []
    },
    "ebc225bc638b46d59a34e45fe4dfd279": {
     "views": []
    },
    "ed83a2d78f2e40018b23cc2b605423a8": {
     "views": []
    },
    "edac4068ab8a45c69b95b782dbfc62a0": {
     "views": []
    },
    "edf1fd0479e947d1813463fb57696140": {
     "views": []
    },
    "edfaf30df8cd43ccac0f9abfefc6ec09": {
     "views": []
    },
    "ee8aae0370e0469fb3662a9246e93052": {
     "views": []
    },
    "ee98283aa6874a9faf2dfbebcfafc9f3": {
     "views": []
    },
    "eed7c71b90b941cdb27c273c47b0f614": {
     "views": []
    },
    "eeda2c7ad725483988bf244849dfa22d": {
     "views": []
    },
    "f059f26df2a543208552414663f716fb": {
     "views": []
    },
    "f09cf3a60e2e4384af745a1a437710d6": {
     "views": []
    },
    "f0bc2b493b68464485869d9ee21b115b": {
     "views": []
    },
    "f0d36f67eef149649035f83a388bcd50": {
     "views": []
    },
    "f6509fd4f6914ca3b3362b8906276548": {
     "views": []
    },
    "f6c7b632b7bf47038796748d373bcfe4": {
     "views": []
    },
    "f732ff7f57f9438788fb8cf90fe7d4fb": {
     "views": []
    },
    "f93a9bf11f4f408b8e891caf8f6980d0": {
     "views": []
    },
    "f98500cbb5294b41841d3b74f61f8420": {
     "views": []
    },
    "fa3a38af44f04de1ad1a0d751090d3c3": {
     "views": []
    },
    "faa48e0d2031410f9d8fdb8b5dd4cfc2": {
     "views": []
    },
    "fca13465d46d46889ab108755a3e3a6d": {
     "views": []
    },
    "fd9adf97aa6e4cc6ae9774bd1578bff1": {
     "views": []
    },
    "fe67b0cb25f94f64afd1ad0ac74dcb49": {
     "views": []
    }
   },
   "version": "1.1.1"
  }
 },
 "nbformat": 4,
 "nbformat_minor": 0
}
